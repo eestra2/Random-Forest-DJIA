{
 "cells": [
  {
   "cell_type": "markdown",
   "metadata": {},
   "source": [
    "# Finance using NLTK and Random Forest by [eestra2](https://github.com/eestra2)\n",
    "\n",
    "### An introductory walk-through of using code and machine learning modules for financial programming.\n",
    "\n",
    "#### Note: \n",
    "#### Not geared towards the general audience. This walk-through assumes some basic Python knowledge, finance principles, and  general statistics.  Also this is toy data and modeling, far from perfect in every sense. The goal is to get people with finance/economics background, with amateur coding abilities, get their hands wet with python programming. The aim is to understand what is going on with the coding part (where most business majors lack in) line by line in order to show where everything is coming from and not seem like code is magic. This is not a foremost showcase of the optimal fine-tuned model predicting highly accurate stock prices. This is not the ideal starting point for someone who is starting to program for the first time. Think of this as a good place to step out of the basics of Python programming and start  something that is \"beginner to mid-level transition\". \n",
    "\n",
    "\n",
    "## Table of Contents\n",
    "\n",
    "1. <a href=\"#1.-DJIA-Prediction-with-Sentiment-Analysis\">DJIA Prediction with Sentiment Analysis</a>\n",
    "2. <a href=\"#2.-Data-Prep\">Data Prep</a>\n",
    "3. <a href=\"#3.-Natural-Language-Processing\">Natural Language Processing</a>\n",
    "4. <a href=\"#4.-Split/Test/Train-Data-Sets\">Split/Test/Train Data Sets</a>\n",
    "5. <a href=\"#5.-Random-Forest-Training\">Random Forest Training</a>\n",
    "6. <a href=\"#6.-Predict-and-Break-Down\">Predict and Break Down<a/>\n",
    "7. <a href=\"#7.-Graphing\">Graphing<a/>\n",
    "8. <a href=\"#8.-Conclusion-&-Final-Thoughts\">Conclusion and Final Thoughts<a/>"
   ]
  },
  {
   "cell_type": "markdown",
   "metadata": {},
   "source": [
    "# 1. DJIA Prediction with Sentiment Analysis\n",
    "\n",
    "In this tutorial I will be using model Random Forest to predict Dow Jones Index. Besides historical prices, I also want to include sentimental analysis features that can contribute to the way a stock price might move. For example, if there is negative news about a company not meeting its expected earnings, stock price for that company will certainly dip. On the other hand, if good news is reported to the public about a company surpassing expected earnings, the price of that company will most likely increase as investors scramble to bid for more shares of that company. Market sentiment plays a huge role in the short-term in equity markets, dictating the way prices move. Thus, I find it crucial to attempt to map media sentiment to stock price movement; however, I will be using the Dow Jones Industrial Average as a proxy to how the stock market moves in response to news. Dow Jones is a price-weighted index that contains 30 largest American companies that approximates the American economy. One quick take away of the Dow is that it is price-weighted. Companies in the Dow index with the highest stock prices will influence the overall index more so than others with lower stock prices. Dow Jones is the oldest and most quoted index in the world"
   ]
  },
  {
   "cell_type": "markdown",
   "metadata": {},
   "source": [
    "# 2. Data Prep"
   ]
  },
  {
   "cell_type": "markdown",
   "metadata": {},
   "source": [
    "[<a href=\"#Finance-using-NLTK-and-Random-Forest-by-eestra2\">Back to top</a>]"
   ]
  },
  {
   "cell_type": "code",
   "execution_count": 1,
   "metadata": {},
   "outputs": [],
   "source": [
    "# Dependencies \n",
    "\n",
    "import numpy as np\n",
    "import pandas as pd"
   ]
  },
  {
   "cell_type": "code",
   "execution_count": 2,
   "metadata": {},
   "outputs": [],
   "source": [
    "# To concentrate on the modeling process rather than spending too much time on data aquisition through APIs, that tend to be a hassle at times, \n",
    "# I have included a pickle file that contains the clean data of the Dow Jones Industrial Average index and news articles for the sentiment analysis part. \n",
    "\n",
    "df_stocks = pd.read_pickle('cleaned_data.pkl')"
   ]
  },
  {
   "cell_type": "code",
   "execution_count": 3,
   "metadata": {},
   "outputs": [
    {
     "data": {
      "text/html": [
       "<div>\n",
       "<style scoped>\n",
       "    .dataframe tbody tr th:only-of-type {\n",
       "        vertical-align: middle;\n",
       "    }\n",
       "\n",
       "    .dataframe tbody tr th {\n",
       "        vertical-align: top;\n",
       "    }\n",
       "\n",
       "    .dataframe thead th {\n",
       "        text-align: right;\n",
       "    }\n",
       "</style>\n",
       "<table border=\"1\" class=\"dataframe\">\n",
       "  <thead>\n",
       "    <tr style=\"text-align: right;\">\n",
       "      <th></th>\n",
       "      <th>close</th>\n",
       "      <th>adj close</th>\n",
       "      <th>articles</th>\n",
       "    </tr>\n",
       "  </thead>\n",
       "  <tbody>\n",
       "    <tr>\n",
       "      <th>2007-01-01</th>\n",
       "      <td>12469.971875</td>\n",
       "      <td>12469.971875</td>\n",
       "      <td>. What Sticks from '06. Somalia Orders Islamis...</td>\n",
       "    </tr>\n",
       "    <tr>\n",
       "      <th>2007-01-02</th>\n",
       "      <td>12472.245703</td>\n",
       "      <td>12472.245703</td>\n",
       "      <td>. Heart Health: Vitamin Does Not Prevent Death...</td>\n",
       "    </tr>\n",
       "    <tr>\n",
       "      <th>2007-01-03</th>\n",
       "      <td>12474.519531</td>\n",
       "      <td>12474.519531</td>\n",
       "      <td>. Google Answer to Filling Jobs Is an Algorith...</td>\n",
       "    </tr>\n",
       "    <tr>\n",
       "      <th>2007-01-04</th>\n",
       "      <td>12480.690430</td>\n",
       "      <td>12480.690430</td>\n",
       "      <td>. Helping Make the Shift From Combat to Commer...</td>\n",
       "    </tr>\n",
       "    <tr>\n",
       "      <th>2007-01-05</th>\n",
       "      <td>12398.009766</td>\n",
       "      <td>12398.009766</td>\n",
       "      <td>. Rise in Ethanol Raises Concerns About Corn a...</td>\n",
       "    </tr>\n",
       "  </tbody>\n",
       "</table>\n",
       "</div>"
      ],
      "text/plain": [
       "                   close     adj close  \\\n",
       "2007-01-01  12469.971875  12469.971875   \n",
       "2007-01-02  12472.245703  12472.245703   \n",
       "2007-01-03  12474.519531  12474.519531   \n",
       "2007-01-04  12480.690430  12480.690430   \n",
       "2007-01-05  12398.009766  12398.009766   \n",
       "\n",
       "                                                     articles  \n",
       "2007-01-01  . What Sticks from '06. Somalia Orders Islamis...  \n",
       "2007-01-02  . Heart Health: Vitamin Does Not Prevent Death...  \n",
       "2007-01-03  . Google Answer to Filling Jobs Is an Algorith...  \n",
       "2007-01-04  . Helping Make the Shift From Combat to Commer...  \n",
       "2007-01-05  . Rise in Ethanol Raises Concerns About Corn a...  "
      ]
     },
     "execution_count": 3,
     "metadata": {},
     "output_type": "execute_result"
    }
   ],
   "source": [
    "# Here we check if everything went smoothly; you should get columns....\"close\", \"adj close\", \"articles\"\n",
    "\n",
    "df_stocks.head()"
   ]
  },
  {
   "cell_type": "code",
   "execution_count": 4,
   "metadata": {},
   "outputs": [],
   "source": [
    "# Now we make some minor adjustments by making sure the adj close column contains integers and not string-numbers. \n",
    "# Apply() function to apply another numpy attribute to convert column to integers.\n",
    "# And also we place the new data type into a new column called \"prices\"\n",
    "\n",
    "df_stocks['prices'] = df_stocks['adj close'].apply(np.int64)"
   ]
  },
  {
   "cell_type": "code",
   "execution_count": 5,
   "metadata": {},
   "outputs": [],
   "source": [
    "# Extract the prices and articles columns and assign it to the same variable to overwrite the previous dataframe.\n",
    "df_stocks = df_stocks[['prices', 'articles']]"
   ]
  },
  {
   "cell_type": "code",
   "execution_count": 6,
   "metadata": {},
   "outputs": [
    {
     "data": {
      "text/html": [
       "<div>\n",
       "<style scoped>\n",
       "    .dataframe tbody tr th:only-of-type {\n",
       "        vertical-align: middle;\n",
       "    }\n",
       "\n",
       "    .dataframe tbody tr th {\n",
       "        vertical-align: top;\n",
       "    }\n",
       "\n",
       "    .dataframe thead th {\n",
       "        text-align: right;\n",
       "    }\n",
       "</style>\n",
       "<table border=\"1\" class=\"dataframe\">\n",
       "  <thead>\n",
       "    <tr style=\"text-align: right;\">\n",
       "      <th></th>\n",
       "      <th>prices</th>\n",
       "      <th>articles</th>\n",
       "    </tr>\n",
       "  </thead>\n",
       "  <tbody>\n",
       "    <tr>\n",
       "      <th>2007-01-01</th>\n",
       "      <td>12469</td>\n",
       "      <td>. What Sticks from '06. Somalia Orders Islamis...</td>\n",
       "    </tr>\n",
       "    <tr>\n",
       "      <th>2007-01-02</th>\n",
       "      <td>12472</td>\n",
       "      <td>. Heart Health: Vitamin Does Not Prevent Death...</td>\n",
       "    </tr>\n",
       "    <tr>\n",
       "      <th>2007-01-03</th>\n",
       "      <td>12474</td>\n",
       "      <td>. Google Answer to Filling Jobs Is an Algorith...</td>\n",
       "    </tr>\n",
       "    <tr>\n",
       "      <th>2007-01-04</th>\n",
       "      <td>12480</td>\n",
       "      <td>. Helping Make the Shift From Combat to Commer...</td>\n",
       "    </tr>\n",
       "    <tr>\n",
       "      <th>2007-01-05</th>\n",
       "      <td>12398</td>\n",
       "      <td>. Rise in Ethanol Raises Concerns About Corn a...</td>\n",
       "    </tr>\n",
       "  </tbody>\n",
       "</table>\n",
       "</div>"
      ],
      "text/plain": [
       "            prices                                           articles\n",
       "2007-01-01   12469  . What Sticks from '06. Somalia Orders Islamis...\n",
       "2007-01-02   12472  . Heart Health: Vitamin Does Not Prevent Death...\n",
       "2007-01-03   12474  . Google Answer to Filling Jobs Is an Algorith...\n",
       "2007-01-04   12480  . Helping Make the Shift From Combat to Commer...\n",
       "2007-01-05   12398  . Rise in Ethanol Raises Concerns About Corn a..."
      ]
     },
     "execution_count": 6,
     "metadata": {},
     "output_type": "execute_result"
    }
   ],
   "source": [
    "# Double check we have two columns: prices and articles. \n",
    "\n",
    "df_stocks.head()"
   ]
  },
  {
   "cell_type": "code",
   "execution_count": 7,
   "metadata": {},
   "outputs": [],
   "source": [
    "# Apply map() function to each element in the articles column to get rid of the unnecessary characters \".-\"\n",
    "\n",
    "df_stocks['articles'] = df_stocks['articles'].map(lambda x: x.lstrip('.-'))"
   ]
  },
  {
   "cell_type": "code",
   "execution_count": 8,
   "metadata": {},
   "outputs": [
    {
     "data": {
      "text/html": [
       "<div>\n",
       "<style scoped>\n",
       "    .dataframe tbody tr th:only-of-type {\n",
       "        vertical-align: middle;\n",
       "    }\n",
       "\n",
       "    .dataframe tbody tr th {\n",
       "        vertical-align: top;\n",
       "    }\n",
       "\n",
       "    .dataframe thead th {\n",
       "        text-align: right;\n",
       "    }\n",
       "</style>\n",
       "<table border=\"1\" class=\"dataframe\">\n",
       "  <thead>\n",
       "    <tr style=\"text-align: right;\">\n",
       "      <th></th>\n",
       "      <th>prices</th>\n",
       "      <th>articles</th>\n",
       "    </tr>\n",
       "  </thead>\n",
       "  <tbody>\n",
       "    <tr>\n",
       "      <th>2007-01-01</th>\n",
       "      <td>12469</td>\n",
       "      <td>What Sticks from '06. Somalia Orders Islamist...</td>\n",
       "    </tr>\n",
       "    <tr>\n",
       "      <th>2007-01-02</th>\n",
       "      <td>12472</td>\n",
       "      <td>Heart Health: Vitamin Does Not Prevent Death ...</td>\n",
       "    </tr>\n",
       "    <tr>\n",
       "      <th>2007-01-03</th>\n",
       "      <td>12474</td>\n",
       "      <td>Google Answer to Filling Jobs Is an Algorithm...</td>\n",
       "    </tr>\n",
       "    <tr>\n",
       "      <th>2007-01-04</th>\n",
       "      <td>12480</td>\n",
       "      <td>Helping Make the Shift From Combat to Commerc...</td>\n",
       "    </tr>\n",
       "    <tr>\n",
       "      <th>2007-01-05</th>\n",
       "      <td>12398</td>\n",
       "      <td>Rise in Ethanol Raises Concerns About Corn as...</td>\n",
       "    </tr>\n",
       "  </tbody>\n",
       "</table>\n",
       "</div>"
      ],
      "text/plain": [
       "            prices                                           articles\n",
       "2007-01-01   12469   What Sticks from '06. Somalia Orders Islamist...\n",
       "2007-01-02   12472   Heart Health: Vitamin Does Not Prevent Death ...\n",
       "2007-01-03   12474   Google Answer to Filling Jobs Is an Algorithm...\n",
       "2007-01-04   12480   Helping Make the Shift From Combat to Commerc...\n",
       "2007-01-05   12398   Rise in Ethanol Raises Concerns About Corn as..."
      ]
     },
     "execution_count": 8,
     "metadata": {},
     "output_type": "execute_result"
    }
   ],
   "source": [
    "# Confirm it went through\n",
    "\n",
    "df_stocks.head()"
   ]
  },
  {
   "cell_type": "code",
   "execution_count": 9,
   "metadata": {},
   "outputs": [
    {
     "data": {
      "text/html": [
       "<div>\n",
       "<style scoped>\n",
       "    .dataframe tbody tr th:only-of-type {\n",
       "        vertical-align: middle;\n",
       "    }\n",
       "\n",
       "    .dataframe tbody tr th {\n",
       "        vertical-align: top;\n",
       "    }\n",
       "\n",
       "    .dataframe thead th {\n",
       "        text-align: right;\n",
       "    }\n",
       "</style>\n",
       "<table border=\"1\" class=\"dataframe\">\n",
       "  <thead>\n",
       "    <tr style=\"text-align: right;\">\n",
       "      <th></th>\n",
       "      <th>prices</th>\n",
       "    </tr>\n",
       "  </thead>\n",
       "  <tbody>\n",
       "    <tr>\n",
       "      <th>2007-01-01</th>\n",
       "      <td>12469</td>\n",
       "    </tr>\n",
       "    <tr>\n",
       "      <th>2007-01-02</th>\n",
       "      <td>12472</td>\n",
       "    </tr>\n",
       "    <tr>\n",
       "      <th>2007-01-03</th>\n",
       "      <td>12474</td>\n",
       "    </tr>\n",
       "    <tr>\n",
       "      <th>2007-01-04</th>\n",
       "      <td>12480</td>\n",
       "    </tr>\n",
       "    <tr>\n",
       "      <th>2007-01-05</th>\n",
       "      <td>12398</td>\n",
       "    </tr>\n",
       "  </tbody>\n",
       "</table>\n",
       "</div>"
      ],
      "text/plain": [
       "            prices\n",
       "2007-01-01   12469\n",
       "2007-01-02   12472\n",
       "2007-01-03   12474\n",
       "2007-01-04   12480\n",
       "2007-01-05   12398"
      ]
     },
     "execution_count": 9,
     "metadata": {},
     "output_type": "execute_result"
    }
   ],
   "source": [
    "# Now we're ready to extract prices column again to place it in another dataframe.\n",
    "\n",
    "df = df_stocks[['prices']].copy()\n",
    "df.head()"
   ]
  },
  {
   "cell_type": "code",
   "execution_count": 10,
   "metadata": {},
   "outputs": [],
   "source": [
    "# Add empty columns with labels to the dataframe df to prep it for incoming sentiment values.\n",
    "df[\"compound\"] = ''\n",
    "df[\"neg\"] = ''\n",
    "df[\"neu\"] = ''\n",
    "df[\"pos\"] = ''"
   ]
  },
  {
   "cell_type": "code",
   "execution_count": 11,
   "metadata": {},
   "outputs": [
    {
     "data": {
      "text/html": [
       "<div>\n",
       "<style scoped>\n",
       "    .dataframe tbody tr th:only-of-type {\n",
       "        vertical-align: middle;\n",
       "    }\n",
       "\n",
       "    .dataframe tbody tr th {\n",
       "        vertical-align: top;\n",
       "    }\n",
       "\n",
       "    .dataframe thead th {\n",
       "        text-align: right;\n",
       "    }\n",
       "</style>\n",
       "<table border=\"1\" class=\"dataframe\">\n",
       "  <thead>\n",
       "    <tr style=\"text-align: right;\">\n",
       "      <th></th>\n",
       "      <th>prices</th>\n",
       "      <th>compound</th>\n",
       "      <th>neg</th>\n",
       "      <th>neu</th>\n",
       "      <th>pos</th>\n",
       "    </tr>\n",
       "  </thead>\n",
       "  <tbody>\n",
       "    <tr>\n",
       "      <th>2007-01-01</th>\n",
       "      <td>12469</td>\n",
       "      <td></td>\n",
       "      <td></td>\n",
       "      <td></td>\n",
       "      <td></td>\n",
       "    </tr>\n",
       "    <tr>\n",
       "      <th>2007-01-02</th>\n",
       "      <td>12472</td>\n",
       "      <td></td>\n",
       "      <td></td>\n",
       "      <td></td>\n",
       "      <td></td>\n",
       "    </tr>\n",
       "    <tr>\n",
       "      <th>2007-01-03</th>\n",
       "      <td>12474</td>\n",
       "      <td></td>\n",
       "      <td></td>\n",
       "      <td></td>\n",
       "      <td></td>\n",
       "    </tr>\n",
       "    <tr>\n",
       "      <th>2007-01-04</th>\n",
       "      <td>12480</td>\n",
       "      <td></td>\n",
       "      <td></td>\n",
       "      <td></td>\n",
       "      <td></td>\n",
       "    </tr>\n",
       "    <tr>\n",
       "      <th>2007-01-05</th>\n",
       "      <td>12398</td>\n",
       "      <td></td>\n",
       "      <td></td>\n",
       "      <td></td>\n",
       "      <td></td>\n",
       "    </tr>\n",
       "  </tbody>\n",
       "</table>\n",
       "</div>"
      ],
      "text/plain": [
       "            prices compound neg neu pos\n",
       "2007-01-01   12469                     \n",
       "2007-01-02   12472                     \n",
       "2007-01-03   12474                     \n",
       "2007-01-04   12480                     \n",
       "2007-01-05   12398                     "
      ]
     },
     "execution_count": 11,
     "metadata": {},
     "output_type": "execute_result"
    }
   ],
   "source": [
    "# And here we have it...all ready to go!\n",
    "\n",
    "df.head()"
   ]
  },
  {
   "cell_type": "markdown",
   "metadata": {},
   "source": [
    "[<a href=\"#Finance-using-NLTK-and-Random-Forest-by-eestra2\">Back to top</a>]"
   ]
  },
  {
   "cell_type": "markdown",
   "metadata": {},
   "source": [
    "# 3. Natural Language Processing\n",
    "\n",
    "Here the coding can be cryptic and confusing for most beginners. From the NLTK library, we can use its SentimentIntensityAnalyzer() to weigh text (called the intensity) and the sentiment of it being either positve, negative, or neutral (the polarity). \n",
    "\n",
    "Compound values are computed by taking all textual sentiment as a whole into consideration and then its weighted on a scale of -1(extremely negative) to 1(extremely positive). The rest of the columns break down the article text and measure the proportion of text being negative, positive, and neutral. As a result, you can sum up their values across and you will get 1."
   ]
  },
  {
   "cell_type": "code",
   "execution_count": 12,
   "metadata": {},
   "outputs": [],
   "source": [
    "from nltk.sentiment.vader import SentimentIntensityAnalyzer\n",
    "import unicodedata\n",
    "\n",
    "sid = SentimentIntensityAnalyzer()\n",
    "\n",
    "for date, row in df_stocks.T.iteritems():\n",
    "    try:\n",
    "        sentence = unicodedata.normalize('NFKD', df_stocks.loc[date, 'articles'])\n",
    "        ss = sid.polarity_scores(sentence)\n",
    "        df.at[date, 'compound'] = ss['compound']\n",
    "        df.at[date, 'neg'] = ss['neg']\n",
    "        df.at[date, 'neu'] = ss['neu']\n",
    "        df.at[date, 'pos'] = ss['pos']\n",
    "    except TypeError:\n",
    "        print(df_stocks.loc[date, 'articles'])\n",
    "        print(date)"
   ]
  },
  {
   "cell_type": "code",
   "execution_count": 13,
   "metadata": {},
   "outputs": [
    {
     "data": {
      "text/html": [
       "<div>\n",
       "<style scoped>\n",
       "    .dataframe tbody tr th:only-of-type {\n",
       "        vertical-align: middle;\n",
       "    }\n",
       "\n",
       "    .dataframe tbody tr th {\n",
       "        vertical-align: top;\n",
       "    }\n",
       "\n",
       "    .dataframe thead th {\n",
       "        text-align: right;\n",
       "    }\n",
       "</style>\n",
       "<table border=\"1\" class=\"dataframe\">\n",
       "  <thead>\n",
       "    <tr style=\"text-align: right;\">\n",
       "      <th></th>\n",
       "      <th>prices</th>\n",
       "      <th>compound</th>\n",
       "      <th>neg</th>\n",
       "      <th>neu</th>\n",
       "      <th>pos</th>\n",
       "    </tr>\n",
       "  </thead>\n",
       "  <tbody>\n",
       "    <tr>\n",
       "      <th>2007-01-01</th>\n",
       "      <td>12469</td>\n",
       "      <td>-0.9735</td>\n",
       "      <td>0.153</td>\n",
       "      <td>0.748</td>\n",
       "      <td>0.099</td>\n",
       "    </tr>\n",
       "    <tr>\n",
       "      <th>2007-01-02</th>\n",
       "      <td>12472</td>\n",
       "      <td>-0.9702</td>\n",
       "      <td>0.122</td>\n",
       "      <td>0.786</td>\n",
       "      <td>0.092</td>\n",
       "    </tr>\n",
       "    <tr>\n",
       "      <th>2007-01-03</th>\n",
       "      <td>12474</td>\n",
       "      <td>-0.9994</td>\n",
       "      <td>0.203</td>\n",
       "      <td>0.736</td>\n",
       "      <td>0.06</td>\n",
       "    </tr>\n",
       "    <tr>\n",
       "      <th>2007-01-04</th>\n",
       "      <td>12480</td>\n",
       "      <td>-0.9982</td>\n",
       "      <td>0.131</td>\n",
       "      <td>0.806</td>\n",
       "      <td>0.062</td>\n",
       "    </tr>\n",
       "    <tr>\n",
       "      <th>2007-01-05</th>\n",
       "      <td>12398</td>\n",
       "      <td>-0.9901</td>\n",
       "      <td>0.124</td>\n",
       "      <td>0.794</td>\n",
       "      <td>0.082</td>\n",
       "    </tr>\n",
       "  </tbody>\n",
       "</table>\n",
       "</div>"
      ],
      "text/plain": [
       "            prices compound    neg    neu    pos\n",
       "2007-01-01   12469  -0.9735  0.153  0.748  0.099\n",
       "2007-01-02   12472  -0.9702  0.122  0.786  0.092\n",
       "2007-01-03   12474  -0.9994  0.203  0.736   0.06\n",
       "2007-01-04   12480  -0.9982  0.131  0.806  0.062\n",
       "2007-01-05   12398  -0.9901  0.124  0.794  0.082"
      ]
     },
     "execution_count": 13,
     "metadata": {},
     "output_type": "execute_result"
    }
   ],
   "source": [
    "# We have our sentiment values populate our df dataframe\n",
    "\n",
    "df.head()"
   ]
  },
  {
   "cell_type": "markdown",
   "metadata": {},
   "source": [
    "[<a href=\"#Finance-using-NLTK-and-Random-Forest-by-eestra2\">Back to top</a>]"
   ]
  },
  {
   "cell_type": "markdown",
   "metadata": {},
   "source": [
    "## 4. Split/Test/Train Data Sets"
   ]
  },
  {
   "cell_type": "code",
   "execution_count": 14,
   "metadata": {},
   "outputs": [],
   "source": [
    "# Split some of the data into training set and test set\n",
    "# The earlier dates will be selected to train the model and the latter dates will be the test set that we want to target (predict).\n",
    "# It serves to measure against the model's predictions to measure accuracy. \n",
    "\n",
    "train_start_date = '2007-01-01'\n",
    "train_end_date = '2014-12-31'\n",
    "test_start_date = '2015-01-01'\n",
    "test_end_date = '2016-12-31'\n",
    "train = df.loc[train_start_date : train_end_date]\n",
    "test = df.loc[test_start_date:test_end_date]"
   ]
  },
  {
   "cell_type": "code",
   "execution_count": 15,
   "metadata": {},
   "outputs": [],
   "source": [
    "# We extract from the train dataset the values of \"neg\" and \"pos\" from each date \n",
    "# to be converted into numpy arrays within a numpy array (for more info on train.T.iteritems usage see appendix)\n",
    "# essentially, a matrix. Matrices are the magic of how most models compute.  \n",
    "\n",
    "sentiment_score_list = []\n",
    "\n",
    "for date, row in train.T.iteritems():\n",
    "    sentiment_score = np.asarray([df.loc[date, 'neg'],df.loc[date, 'pos']])\n",
    "    sentiment_score_list.append(sentiment_score)\n",
    "\n",
    "numpy_df_train = np.asarray(sentiment_score_list)"
   ]
  },
  {
   "cell_type": "code",
   "execution_count": 16,
   "metadata": {},
   "outputs": [
    {
     "data": {
      "text/plain": [
       "array([[ 0.153,  0.099],\n",
       "       [ 0.122,  0.092],\n",
       "       [ 0.203,  0.06 ],\n",
       "       ..., \n",
       "       [ 0.171,  0.075],\n",
       "       [ 0.16 ,  0.14 ],\n",
       "       [ 0.198,  0.135]])"
      ]
     },
     "execution_count": 16,
     "metadata": {},
     "output_type": "execute_result"
    }
   ],
   "source": [
    "numpy_df_train"
   ]
  },
  {
   "cell_type": "code",
   "execution_count": 17,
   "metadata": {},
   "outputs": [],
   "source": [
    "# The same goes for the testing set\n",
    "\n",
    "sentiment_score_list = []\n",
    "\n",
    "for date, row in test.T.iteritems():\n",
    "    sentiment_score = np.asarray([df.loc[date, 'neg'],df.loc[date, 'pos']])\n",
    "    sentiment_score_list.append(sentiment_score)\n",
    "\n",
    "numpy_df_test = np.asarray(sentiment_score_list)"
   ]
  },
  {
   "cell_type": "code",
   "execution_count": 18,
   "metadata": {},
   "outputs": [
    {
     "data": {
      "text/plain": [
       "array([[ 0.138,  0.122],\n",
       "       [ 0.149,  0.093],\n",
       "       [ 0.131,  0.083],\n",
       "       ..., \n",
       "       [ 0.138,  0.097],\n",
       "       [ 0.173,  0.094],\n",
       "       [ 0.173,  0.161]])"
      ]
     },
     "execution_count": 18,
     "metadata": {},
     "output_type": "execute_result"
    }
   ],
   "source": [
    "numpy_df_test"
   ]
  },
  {
   "cell_type": "code",
   "execution_count": 19,
   "metadata": {},
   "outputs": [],
   "source": [
    "# Create a seperate train and test sub-sets from values of column \"prices\"\n",
    "# Remember, we want to train the model to map features(predictors) to the corresponding prices (target).\n",
    "\n",
    "y_train = pd.DataFrame(train['prices'])\n",
    "y_test = pd.DataFrame(test['prices'])"
   ]
  },
  {
   "cell_type": "markdown",
   "metadata": {},
   "source": [
    "[<a href=\"#Finance-using-NLTK-and-Random-Forest-by-eestra2\">Back to top</a>]"
   ]
  },
  {
   "cell_type": "markdown",
   "metadata": {},
   "source": [
    "# 5. Random Forest Training"
   ]
  },
  {
   "cell_type": "code",
   "execution_count": 20,
   "metadata": {},
   "outputs": [
    {
     "name": "stderr",
     "output_type": "stream",
     "text": [
      "C:\\Users\\eestra2\\Anaconda3\\lib\\site-packages\\ipykernel_launcher.py:13: DataConversionWarning: A column-vector y was passed when a 1d array was expected. Please change the shape of y to (n_samples,), for example using ravel().\n",
      "  del sys.path[0]\n"
     ]
    },
    {
     "data": {
      "text/plain": [
       "RandomForestRegressor(bootstrap=True, criterion='mse', max_depth=None,\n",
       "           max_features='auto', max_leaf_nodes=None,\n",
       "           min_impurity_decrease=0.0, min_impurity_split=None,\n",
       "           min_samples_leaf=1, min_samples_split=2,\n",
       "           min_weight_fraction_leaf=0.0, n_estimators=10, n_jobs=1,\n",
       "           oob_score=False, random_state=None, verbose=0, warm_start=False)"
      ]
     },
     "execution_count": 20,
     "metadata": {},
     "output_type": "execute_result"
    }
   ],
   "source": [
    "# Now its time to get down to business by finally training the model, Random Forest.\n",
    "\n",
    "# import ML models from scikit-learn module\n",
    "# treeinterpreter is a supporting package of scikit-learn that allows interpretation of the prediction results of the model to be\n",
    "# broken-down to its components of features that contributed and a bias constant. \n",
    "\n",
    "from treeinterpreter import treeinterpreter as ti\n",
    "from sklearn.ensemble import RandomForestRegressor\n",
    "\n",
    "\n",
    "rf = RandomForestRegressor()\n",
    "\n",
    "rf.fit(numpy_df_train, y_train)"
   ]
  },
  {
   "cell_type": "code",
   "execution_count": 21,
   "metadata": {},
   "outputs": [
    {
     "data": {
      "text/plain": [
       "array([ 0.55307151,  0.44692849])"
      ]
     },
     "execution_count": 21,
     "metadata": {},
     "output_type": "execute_result"
    }
   ],
   "source": [
    "# Displays the percentage contribution of the negative and positive features in the learning process; looks almost equal with negative contributing slightly more.\n",
    "# It is expected as if you look back at the dataframe df, you will see that neg column for the most part was higher in percentage than positive.\n",
    "\n",
    "rf.feature_importances_"
   ]
  },
  {
   "cell_type": "markdown",
   "metadata": {},
   "source": [
    "[<a href=\"#Finance-using-NLTK-and-Random-Forest-by-eestra2\">Back to top</a>]"
   ]
  },
  {
   "cell_type": "markdown",
   "metadata": {},
   "source": [
    "# 6. Predict and Break Down"
   ]
  },
  {
   "cell_type": "code",
   "execution_count": 22,
   "metadata": {},
   "outputs": [],
   "source": [
    "# Predict and break down the Random Forest results into components using the tree interpreter\n",
    "\n",
    "prediction, bias, contributions = ti.predict(rf, numpy_df_test)"
   ]
  },
  {
   "cell_type": "code",
   "execution_count": 23,
   "metadata": {},
   "outputs": [
    {
     "data": {
      "text/plain": [
       "array([ 13830.7       ,  13156.275     ,  10860.9       ,  13526.        ,\n",
       "        10523.7       ,  15231.04166667,  12643.7       ,  12342.1       ,\n",
       "        12981.5       ,  16155.1       ,  11832.        ,  12342.3       ,\n",
       "        10259.98      ,  13681.5       ,  12925.        ,  13484.93333333,\n",
       "         9981.4       ,  11702.18333333,   9350.9       ,  10957.6       ,\n",
       "        11949.3       ,  12897.8       ,  11735.2       ,  10192.6       ,\n",
       "        13378.2       ,  11991.6       ,  12431.1       ,  13353.6       ,\n",
       "        12814.51666667,  10993.1       ,   9889.18333333,  12903.8       ,\n",
       "        13796.8       ,  11822.7       ,  12401.70833333,  13338.83333333,\n",
       "        13541.76666667,  12527.3       ,  10940.3       ,  13671.3       ,\n",
       "        11314.1       ,  12725.85      ,  14419.5       ,  12665.6       ,\n",
       "        12064.9       ,  14331.8       ,   9052.11333333,  14567.5       ,\n",
       "        17061.        ,  11039.08333333,  10989.46666667,  13920.3       ,\n",
       "        12359.8       ,  12198.        ,  12393.3       ,  12269.13333333,\n",
       "        15837.475     ,  12431.83333333,   9812.4       ,  16343.8       ,\n",
       "        10999.07      ,  11859.6       ,  15745.125     ,  11273.7       ,\n",
       "        13820.68333333,  14835.1       ,  13029.7       ,  14867.3       ,\n",
       "        12579.6       ,  16478.26666667,  14180.6       ,  12640.2       ,\n",
       "        13023.6       ,  11881.4       ,  11035.        ,  13990.7       ,\n",
       "        13109.1       ,  14920.9       ,  10187.45      ,  13364.6       ,\n",
       "        10167.        ,  10832.585     ,  11889.76428571,  12435.8       ,\n",
       "        13677.3       ,  11204.075     ,  11928.5       ,  10742.2       ,\n",
       "        10360.99333333,  14361.66      ,  15395.9       ,  11109.06666667,\n",
       "        12563.8       ,  13713.3       ,  11262.76666667,  10529.1       ,\n",
       "        13336.225     ,  14463.275     ,  12531.6       ,  12304.2       ,\n",
       "        12260.6       ,  13594.        ,  12594.55      ,  13278.1       ,\n",
       "        12590.79333333,  13106.86666667,  12076.8       ,  13958.9       ,\n",
       "        12909.5       ,  11160.7       ,  11399.14      ,  13207.5       ,\n",
       "        14382.9       ,   8780.2       ,  14771.625     ,  12269.13333333,\n",
       "        11570.28333333,  12569.9       ,  15326.3       ,  14145.175     ,\n",
       "        15263.6       ,  12953.6       ,  14243.4       ,  12917.76666667,\n",
       "        12377.7       ,  14042.        ,  15239.6       ,  14375.76666667,\n",
       "        13172.46      ,   9657.3       ,  11142.5       ,  12584.8       ,\n",
       "        12924.8       ,  12849.20333333,  13815.43333333,  14683.8       ,\n",
       "        11323.05      ,  14253.8       ,  15791.8       ,  10569.2       ,\n",
       "        14618.86666667,  13918.9       ,  14105.8       ,  12762.4       ,\n",
       "        15205.5       ,  12407.7       ,  14224.46666667,  15080.85      ,\n",
       "        15489.8       ,  12869.91666667,  14610.4       ,  11554.2       ,\n",
       "        10192.6       ,  13176.35      ,  12228.9       ,  12615.4       ,\n",
       "        11437.        ,  13246.025     ,  13256.9       ,  11574.1       ,\n",
       "         8658.95      ,  12293.4       ,  11995.85      ,  12646.95      ,\n",
       "        12006.3       ,  12162.1       ,  14482.06      ,  14654.6       ,\n",
       "        12562.2       ,  14457.6       ,  12533.5       ,  11944.3       ,\n",
       "        11333.75      ,  14325.36666667,  11394.2       ,  10651.63333333,\n",
       "        11386.        ,  14437.6       ,  12594.1       ,  15353.        ,\n",
       "        12599.        ,  13202.6       ,  11463.2       ,  14929.28333333,\n",
       "        14629.4       ,  11356.4       ,  12851.8       ,  13201.1       ,\n",
       "         9505.78333333,  14170.9       ,  12472.8       ,  10720.43333333,\n",
       "        12956.        ,  12320.7       ,  12930.7       ,  12687.4       ,\n",
       "        11890.4       ,  12088.56666667,  14769.7       ,  12126.        ,\n",
       "         8919.1       ,  12500.3       ,  12349.16666667,  10993.1       ,\n",
       "        12692.7       ,  15722.9       ,  16560.4       ,  12909.6       ,\n",
       "        12425.5       ,  13176.35      ,  13994.        ,  15745.125     ,\n",
       "        11748.3       ,  11546.5       ,  14076.93333333,  12118.78571429,\n",
       "        13603.9       ,  12601.1       ,  11822.7       ,  11156.6       ,\n",
       "        15018.8       ,  12521.5       ,  11390.8       ,  12626.        ,\n",
       "        11788.3       ,  16107.16666667,   9521.3       ,  11636.9       ,\n",
       "        12215.3       ,  11741.8       ,  12926.5       ,  12846.        ,\n",
       "         9261.        ,  13466.7       ,  13639.        ,  12784.3       ,\n",
       "        13208.26      ,  12772.        ,  13908.23333333,  13596.4       ,\n",
       "         9340.9       ,  13780.5       ,  11867.6       ,  11021.1       ,\n",
       "        12065.6       ,  13044.83333333,   9353.2       ,   9821.4       ,\n",
       "        12797.46666667,  12534.6       ,  14656.71666667,  13270.1       ,\n",
       "        14157.8       ,  15455.65      ,  12003.89166667,  12466.43333333,\n",
       "        11272.1       ,  12977.        ,  10788.1       ,  13033.        ,\n",
       "        11649.88      ,  12478.8       ,  11323.05      ,  13433.3       ,\n",
       "        14177.5       ,  13914.56666667,  11395.5       ,  10899.8       ,\n",
       "        12380.2       ,  10228.4       ,  10598.2       ,  11789.80666667,\n",
       "        13110.        ,  13911.6       ,  13145.3       ,  13724.7       ,\n",
       "        13720.8       ,  14469.1       ,  11454.25      ,  11396.73333333,\n",
       "        14519.        ,  10964.7       ,   9521.3       ,  12850.2       ,\n",
       "        12194.1       ,  13783.9       ,   9683.4       ,  13858.6       ,\n",
       "        13301.4       ,  10431.3       ,  13347.        ,  11321.7       ,\n",
       "        12386.60333333,  12105.5       ,  11105.18333333,  12431.83333333,\n",
       "        15973.42      ,  13340.1       ,  13345.01      ,  15487.8       ,\n",
       "        12049.1       ,  10898.6       ,  11661.        ,  14645.6       ,\n",
       "        15132.8       ,  13298.73333333,  13714.63333333,  11814.3       ,\n",
       "        13609.8       ,  12730.7       ,  13397.93333333,  13423.96      ,\n",
       "        12832.78166667,  10681.3       ,  11250.78809524,  10174.88      ,\n",
       "        11563.        ,  12291.2       ,  10884.8       ,  12477.5       ,\n",
       "        12149.2       ,  14718.7       ,  11225.4       ,  13944.8       ,\n",
       "         9861.5       ,  13196.        ,  12023.15      ,  12594.4       ,\n",
       "        11758.6       ,  13336.7       ,  15213.31833333,  11714.8       ,\n",
       "        12962.76666667,  13564.15      ,  12840.        ,  13296.2       ,\n",
       "        14021.025     ,  11046.23333333,  13727.6       ,  12037.3       ,\n",
       "        14681.44166667,  12436.2       ,  14387.26      ,  11418.        ,\n",
       "        12994.6       ,  12495.5       ,  10536.4       ,  11283.8       ,\n",
       "        11484.9       ,  11162.23142857,  12908.7       ,  11284.35      ,\n",
       "        13907.5       ,  11207.8       ,  13211.7       ,  12079.3       ,\n",
       "        12646.55      ,  13420.05      ,  10127.06666667,   9777.5       ,\n",
       "        13022.9       ,  13582.425     ,  14783.73888889,  11932.7       ,\n",
       "        11733.        ,  14789.2       ,  11314.1       ,  12807.8       ,\n",
       "        12198.4       ,  10410.85      ,  15196.3       ,  13989.96666667,\n",
       "        13142.1       ,  13021.78333333,  12430.6       ,  10768.7       ,\n",
       "        13552.7       ,  14079.3       ,  13807.18333333,  12967.73333333,\n",
       "        13556.63333333,  11234.8       ,  12460.25833333,  12531.6       ,\n",
       "        11536.        ,  16008.3       ,  12025.4       ,  13283.2       ,\n",
       "        14099.3       ,  13483.7       ,  13651.52857143,  13586.2       ,\n",
       "        14042.        ,  10889.1       ,  10713.4       ,  12163.        ,\n",
       "        12405.01666667,  10853.40833333,  14519.        ,  13898.95      ,\n",
       "        14594.6       ,  11251.125     ,  13586.2       ,   9800.7       ,\n",
       "        12649.2       ,  12100.6       ,  12493.15      ,  11992.        ,\n",
       "        13278.93333333,  13186.9       ,  10996.1       ,  12044.6       ,\n",
       "        12045.1       ,  10995.825     ,   7866.5       ,  12528.01666667,\n",
       "        12243.6       ,  12001.5       ,  13187.2       ,  12624.91666667,\n",
       "        13164.7       ,  14627.8       ,  14032.76666667,  13984.58142857,\n",
       "        13208.33333333,  12791.2       ,  10643.15      ,   9082.1       ,\n",
       "        12358.6       ,  13951.        ,  13989.96666667,  11380.3       ,\n",
       "        12431.83333333,  15262.2       ,  13244.23333333,  10943.16666667,\n",
       "        12827.8       ,  13426.86666667,  14920.21666667,  11781.45666667,\n",
       "        12581.9       ,  11274.56666667,  12599.9       ,  11708.66666667,\n",
       "        12269.2       ,  14487.6       ,  12889.1       ,  14079.86666667,\n",
       "        13681.2       ,  12644.3       ,  10291.5       ,  10074.76666667,\n",
       "        13005.4       ,  13907.4       ,  13983.9       ,  14745.3       ,\n",
       "        16482.85      ,  12079.33333333,  11304.1       ,  12497.85      ,\n",
       "        12987.8       ,  14019.65      ,  15910.6       ,  11883.6       ,\n",
       "        11938.65      ,  12027.3       ,  15399.1       ,  11831.4       ,\n",
       "        14166.55      ,  11440.6       ,  12431.4       ,  14485.76      ,\n",
       "        11409.4       ,  15455.3       ,  12541.5       ,  12445.5       ,\n",
       "        13725.4       ,  13771.86      ,  13635.475     ,  11834.6       ,\n",
       "        11625.5       ,  13282.6       ,  12938.3       ,  10821.3       ,\n",
       "        15839.        ,  12244.6       ,  10146.8       ,  15043.9       ,\n",
       "        12211.4       ,  13458.75      ,  12286.3       ,  12355.30833333,\n",
       "         9623.23333333,   9434.5       ,  16829.1       ,  10617.3       ,\n",
       "        13642.        ,  14130.        ,  11641.3       ,  15765.3       ,\n",
       "        13552.36      ,  10811.9       ,  16153.25      ,  12408.3       ,\n",
       "        12443.7       ,  12951.81666667,  12739.        ,  11145.1       ,\n",
       "        12841.        ,  14147.4       ,  11997.1       ,  13624.        ,\n",
       "        10231.68      ,  12642.525     ,  12889.        ,  12128.3       ,\n",
       "        14290.25      ,  13178.3       ,  16189.4       ,  12407.15      ,\n",
       "         9973.        ,  12554.7       ,  13223.2       ,  14851.3       ,\n",
       "        12269.13333333,  13503.85      ,  12430.8       ,  13413.9       ,\n",
       "        11936.43333333,  12423.7       ,  12506.8       ,  12820.7       ,\n",
       "        14802.3       ,  13911.5       ,  12079.9       ,  13634.5       ,\n",
       "        15573.7       ,  15553.53333333,  13331.6       ,  13118.55      ,\n",
       "        13301.4       ,  13603.9       ,  11566.3       ,  12517.7       ,\n",
       "        13890.925     ,  12892.5       ,  14846.        ,  11183.5       ,\n",
       "        13422.5       ,  14665.8       ,  15199.4       ,  12594.4       ,\n",
       "        11972.5       ,  12547.26666667,  13221.7       ,  11614.7       ,\n",
       "        13990.7       ,  13755.1       ,  12263.3       ,  13596.4       ,\n",
       "        13750.38333333,  10808.        ,  10787.3       ,  13867.        ,\n",
       "        13669.6       ,  12621.1       ,  11791.1       ,  12477.5       ,\n",
       "        16111.92      ,  14933.4       ,  15293.1       ,  14645.6       ,\n",
       "        13994.        ,  15205.35      ,  11866.7       ,  11915.6       ,\n",
       "        12512.6       ,  13958.9       ,  15137.4       ,  12194.7       ,\n",
       "         9945.8       ,  15294.66666667,  13499.3       ,  13158.5       ,\n",
       "        10917.6       ,  12057.1       ,  12892.5       ,  13881.        ,\n",
       "        15645.9       ,  15995.7       ,  12168.6       ,  11997.8       ,\n",
       "        13592.31666667,  14599.8       ,  11252.23333333,  11659.1       ,\n",
       "        12959.6       ,  13045.1       ,  11425.4       ,  13406.7       ,\n",
       "        13187.6       ,  12649.63333333,  13428.8       ,  11286.4       ,\n",
       "        14694.5       ,  12354.1       ,  12839.4       ,  15071.9       ,\n",
       "        11832.        ,  12816.67666667,  13541.3       ,  12261.9       ,\n",
       "        12329.9       ,  13010.9       ,  13629.3       ,  13749.7       ,\n",
       "        10362.6       ,  12386.60333333,   8896.1       ,  11120.7       ,\n",
       "        14517.45      ,  11169.3       ,  14612.65      ,  12177.1       ,\n",
       "        14275.56666667,  10659.275     ,  11304.4       ,  11119.2       ,\n",
       "        13009.5       ,  14571.8       ,  12048.25      ,  11181.325     ,\n",
       "        14100.6       ,  13554.02904762,  11567.88      ,  13133.93333333,\n",
       "        11767.46666667,  10492.33333333,  15977.        ,  14501.95833333,\n",
       "        12051.7       ,  16107.16666667,  12648.65      ,  14175.8       ,\n",
       "        12054.        ,  12592.1       ,  11799.95      ,  11405.9       ,\n",
       "        12843.3       ,  14275.56666667,  11948.4       ,  13215.66666667,\n",
       "        14753.6       ,  13579.1       ,  11604.55      ,  14180.6       ,\n",
       "        11515.6       ,  13205.65      ,  10765.6       ,  13412.98333333,\n",
       "        12533.5       ,  12958.6       ,  13101.83333333,  12025.7       ,\n",
       "        12018.9       ,  12342.5       ,  10208.6       ,  14186.5       ,\n",
       "        11084.73333333,  12316.2       ,  12925.7       ,  12957.5       ,\n",
       "         9790.5       ,  12685.8       ,  11443.6       ,   9814.8       ,\n",
       "        11940.1       ,  13810.2       ,  13154.6       ,  12979.7       ,\n",
       "        12351.7       ,  13969.7       ,  14183.8       ,  13175.15833333,\n",
       "        14034.11666667,  13443.3       ,  14441.5       ,  13033.70833333,\n",
       "         8415.6       ,  10521.1       ,  13521.95      ,  13206.4       ,\n",
       "         9886.93333333,  10040.9       ,  14395.1       ,  11783.8       ,\n",
       "        15074.5       ,  12190.        ,  12268.575     ,  10550.5       ,\n",
       "        12550.86666667,  11450.96666667,  12215.4       ,  12767.5       ,\n",
       "        12063.        ,  12693.91      ,  14146.85666667,  13076.6       ,\n",
       "        13970.        ,  14130.        ,  13298.4       ,  13268.5       ,\n",
       "        13046.1       ,  13397.93333333,  13232.5       ,  13067.2       ,\n",
       "        11288.25      ,  14773.2       ,  12685.8       ,  13179.7       ,\n",
       "        13770.7       ,  14858.1       ,  12931.6       ,  11609.25      ,\n",
       "        13313.8       ,  13614.6       ,  12723.57333333,  12566.1       ,\n",
       "        12400.275     ,  12130.3       ,  14725.7       ])"
      ]
     },
     "execution_count": 23,
     "metadata": {},
     "output_type": "execute_result"
    }
   ],
   "source": [
    "# These are the predicted prices given the test set of sentiment values\n",
    "\n",
    "prediction"
   ]
  },
  {
   "cell_type": "code",
   "execution_count": 24,
   "metadata": {},
   "outputs": [
    {
     "data": {
      "text/plain": [
       "array([[  246.53832178,   987.34863921],\n",
       "       [  151.08885348,   408.37310751],\n",
       "       [  147.50569852, -1883.41873754],\n",
       "       ..., \n",
       "       [  865.91395782, -1062.45199683],\n",
       "       [ -173.84206946,  -292.67096955],\n",
       "       [ 1064.73528568,  1064.15167531]])"
      ]
     },
     "execution_count": 24,
     "metadata": {},
     "output_type": "execute_result"
    }
   ],
   "source": [
    "contributions"
   ]
  },
  {
   "cell_type": "code",
   "execution_count": 25,
   "metadata": {
    "scrolled": true
   },
   "outputs": [
    {
     "data": {
      "text/plain": [
       "array([ 12596.81303901,  12596.81303901,  12596.81303901,  12596.81303901,\n",
       "        12596.81303901,  12596.81303901,  12596.81303901,  12596.81303901,\n",
       "        12596.81303901,  12596.81303901,  12596.81303901,  12596.81303901,\n",
       "        12596.81303901,  12596.81303901,  12596.81303901,  12596.81303901,\n",
       "        12596.81303901,  12596.81303901,  12596.81303901,  12596.81303901,\n",
       "        12596.81303901,  12596.81303901,  12596.81303901,  12596.81303901,\n",
       "        12596.81303901,  12596.81303901,  12596.81303901,  12596.81303901,\n",
       "        12596.81303901,  12596.81303901,  12596.81303901,  12596.81303901,\n",
       "        12596.81303901,  12596.81303901,  12596.81303901,  12596.81303901,\n",
       "        12596.81303901,  12596.81303901,  12596.81303901,  12596.81303901,\n",
       "        12596.81303901,  12596.81303901,  12596.81303901,  12596.81303901,\n",
       "        12596.81303901,  12596.81303901,  12596.81303901,  12596.81303901,\n",
       "        12596.81303901,  12596.81303901,  12596.81303901,  12596.81303901,\n",
       "        12596.81303901,  12596.81303901,  12596.81303901,  12596.81303901,\n",
       "        12596.81303901,  12596.81303901,  12596.81303901,  12596.81303901,\n",
       "        12596.81303901,  12596.81303901,  12596.81303901,  12596.81303901,\n",
       "        12596.81303901,  12596.81303901,  12596.81303901,  12596.81303901,\n",
       "        12596.81303901,  12596.81303901,  12596.81303901,  12596.81303901,\n",
       "        12596.81303901,  12596.81303901,  12596.81303901,  12596.81303901,\n",
       "        12596.81303901,  12596.81303901,  12596.81303901,  12596.81303901,\n",
       "        12596.81303901,  12596.81303901,  12596.81303901,  12596.81303901,\n",
       "        12596.81303901,  12596.81303901,  12596.81303901,  12596.81303901,\n",
       "        12596.81303901,  12596.81303901,  12596.81303901,  12596.81303901,\n",
       "        12596.81303901,  12596.81303901,  12596.81303901,  12596.81303901,\n",
       "        12596.81303901,  12596.81303901,  12596.81303901,  12596.81303901,\n",
       "        12596.81303901,  12596.81303901,  12596.81303901,  12596.81303901,\n",
       "        12596.81303901,  12596.81303901,  12596.81303901,  12596.81303901,\n",
       "        12596.81303901,  12596.81303901,  12596.81303901,  12596.81303901,\n",
       "        12596.81303901,  12596.81303901,  12596.81303901,  12596.81303901,\n",
       "        12596.81303901,  12596.81303901,  12596.81303901,  12596.81303901,\n",
       "        12596.81303901,  12596.81303901,  12596.81303901,  12596.81303901,\n",
       "        12596.81303901,  12596.81303901,  12596.81303901,  12596.81303901,\n",
       "        12596.81303901,  12596.81303901,  12596.81303901,  12596.81303901,\n",
       "        12596.81303901,  12596.81303901,  12596.81303901,  12596.81303901,\n",
       "        12596.81303901,  12596.81303901,  12596.81303901,  12596.81303901,\n",
       "        12596.81303901,  12596.81303901,  12596.81303901,  12596.81303901,\n",
       "        12596.81303901,  12596.81303901,  12596.81303901,  12596.81303901,\n",
       "        12596.81303901,  12596.81303901,  12596.81303901,  12596.81303901,\n",
       "        12596.81303901,  12596.81303901,  12596.81303901,  12596.81303901,\n",
       "        12596.81303901,  12596.81303901,  12596.81303901,  12596.81303901,\n",
       "        12596.81303901,  12596.81303901,  12596.81303901,  12596.81303901,\n",
       "        12596.81303901,  12596.81303901,  12596.81303901,  12596.81303901,\n",
       "        12596.81303901,  12596.81303901,  12596.81303901,  12596.81303901,\n",
       "        12596.81303901,  12596.81303901,  12596.81303901,  12596.81303901,\n",
       "        12596.81303901,  12596.81303901,  12596.81303901,  12596.81303901,\n",
       "        12596.81303901,  12596.81303901,  12596.81303901,  12596.81303901,\n",
       "        12596.81303901,  12596.81303901,  12596.81303901,  12596.81303901,\n",
       "        12596.81303901,  12596.81303901,  12596.81303901,  12596.81303901,\n",
       "        12596.81303901,  12596.81303901,  12596.81303901,  12596.81303901,\n",
       "        12596.81303901,  12596.81303901,  12596.81303901,  12596.81303901,\n",
       "        12596.81303901,  12596.81303901,  12596.81303901,  12596.81303901,\n",
       "        12596.81303901,  12596.81303901,  12596.81303901,  12596.81303901,\n",
       "        12596.81303901,  12596.81303901,  12596.81303901,  12596.81303901,\n",
       "        12596.81303901,  12596.81303901,  12596.81303901,  12596.81303901,\n",
       "        12596.81303901,  12596.81303901,  12596.81303901,  12596.81303901,\n",
       "        12596.81303901,  12596.81303901,  12596.81303901,  12596.81303901,\n",
       "        12596.81303901,  12596.81303901,  12596.81303901,  12596.81303901,\n",
       "        12596.81303901,  12596.81303901,  12596.81303901,  12596.81303901,\n",
       "        12596.81303901,  12596.81303901,  12596.81303901,  12596.81303901,\n",
       "        12596.81303901,  12596.81303901,  12596.81303901,  12596.81303901,\n",
       "        12596.81303901,  12596.81303901,  12596.81303901,  12596.81303901,\n",
       "        12596.81303901,  12596.81303901,  12596.81303901,  12596.81303901,\n",
       "        12596.81303901,  12596.81303901,  12596.81303901,  12596.81303901,\n",
       "        12596.81303901,  12596.81303901,  12596.81303901,  12596.81303901,\n",
       "        12596.81303901,  12596.81303901,  12596.81303901,  12596.81303901,\n",
       "        12596.81303901,  12596.81303901,  12596.81303901,  12596.81303901,\n",
       "        12596.81303901,  12596.81303901,  12596.81303901,  12596.81303901,\n",
       "        12596.81303901,  12596.81303901,  12596.81303901,  12596.81303901,\n",
       "        12596.81303901,  12596.81303901,  12596.81303901,  12596.81303901,\n",
       "        12596.81303901,  12596.81303901,  12596.81303901,  12596.81303901,\n",
       "        12596.81303901,  12596.81303901,  12596.81303901,  12596.81303901,\n",
       "        12596.81303901,  12596.81303901,  12596.81303901,  12596.81303901,\n",
       "        12596.81303901,  12596.81303901,  12596.81303901,  12596.81303901,\n",
       "        12596.81303901,  12596.81303901,  12596.81303901,  12596.81303901,\n",
       "        12596.81303901,  12596.81303901,  12596.81303901,  12596.81303901,\n",
       "        12596.81303901,  12596.81303901,  12596.81303901,  12596.81303901,\n",
       "        12596.81303901,  12596.81303901,  12596.81303901,  12596.81303901,\n",
       "        12596.81303901,  12596.81303901,  12596.81303901,  12596.81303901,\n",
       "        12596.81303901,  12596.81303901,  12596.81303901,  12596.81303901,\n",
       "        12596.81303901,  12596.81303901,  12596.81303901,  12596.81303901,\n",
       "        12596.81303901,  12596.81303901,  12596.81303901,  12596.81303901,\n",
       "        12596.81303901,  12596.81303901,  12596.81303901,  12596.81303901,\n",
       "        12596.81303901,  12596.81303901,  12596.81303901,  12596.81303901,\n",
       "        12596.81303901,  12596.81303901,  12596.81303901,  12596.81303901,\n",
       "        12596.81303901,  12596.81303901,  12596.81303901,  12596.81303901,\n",
       "        12596.81303901,  12596.81303901,  12596.81303901,  12596.81303901,\n",
       "        12596.81303901,  12596.81303901,  12596.81303901,  12596.81303901,\n",
       "        12596.81303901,  12596.81303901,  12596.81303901,  12596.81303901,\n",
       "        12596.81303901,  12596.81303901,  12596.81303901,  12596.81303901,\n",
       "        12596.81303901,  12596.81303901,  12596.81303901,  12596.81303901,\n",
       "        12596.81303901,  12596.81303901,  12596.81303901,  12596.81303901,\n",
       "        12596.81303901,  12596.81303901,  12596.81303901,  12596.81303901,\n",
       "        12596.81303901,  12596.81303901,  12596.81303901,  12596.81303901,\n",
       "        12596.81303901,  12596.81303901,  12596.81303901,  12596.81303901,\n",
       "        12596.81303901,  12596.81303901,  12596.81303901,  12596.81303901,\n",
       "        12596.81303901,  12596.81303901,  12596.81303901,  12596.81303901,\n",
       "        12596.81303901,  12596.81303901,  12596.81303901,  12596.81303901,\n",
       "        12596.81303901,  12596.81303901,  12596.81303901,  12596.81303901,\n",
       "        12596.81303901,  12596.81303901,  12596.81303901,  12596.81303901,\n",
       "        12596.81303901,  12596.81303901,  12596.81303901,  12596.81303901,\n",
       "        12596.81303901,  12596.81303901,  12596.81303901,  12596.81303901,\n",
       "        12596.81303901,  12596.81303901,  12596.81303901,  12596.81303901,\n",
       "        12596.81303901,  12596.81303901,  12596.81303901,  12596.81303901,\n",
       "        12596.81303901,  12596.81303901,  12596.81303901,  12596.81303901,\n",
       "        12596.81303901,  12596.81303901,  12596.81303901,  12596.81303901,\n",
       "        12596.81303901,  12596.81303901,  12596.81303901,  12596.81303901,\n",
       "        12596.81303901,  12596.81303901,  12596.81303901,  12596.81303901,\n",
       "        12596.81303901,  12596.81303901,  12596.81303901,  12596.81303901,\n",
       "        12596.81303901,  12596.81303901,  12596.81303901,  12596.81303901,\n",
       "        12596.81303901,  12596.81303901,  12596.81303901,  12596.81303901,\n",
       "        12596.81303901,  12596.81303901,  12596.81303901,  12596.81303901,\n",
       "        12596.81303901,  12596.81303901,  12596.81303901,  12596.81303901,\n",
       "        12596.81303901,  12596.81303901,  12596.81303901,  12596.81303901,\n",
       "        12596.81303901,  12596.81303901,  12596.81303901,  12596.81303901,\n",
       "        12596.81303901,  12596.81303901,  12596.81303901,  12596.81303901,\n",
       "        12596.81303901,  12596.81303901,  12596.81303901,  12596.81303901,\n",
       "        12596.81303901,  12596.81303901,  12596.81303901,  12596.81303901,\n",
       "        12596.81303901,  12596.81303901,  12596.81303901,  12596.81303901,\n",
       "        12596.81303901,  12596.81303901,  12596.81303901,  12596.81303901,\n",
       "        12596.81303901,  12596.81303901,  12596.81303901,  12596.81303901,\n",
       "        12596.81303901,  12596.81303901,  12596.81303901,  12596.81303901,\n",
       "        12596.81303901,  12596.81303901,  12596.81303901,  12596.81303901,\n",
       "        12596.81303901,  12596.81303901,  12596.81303901,  12596.81303901,\n",
       "        12596.81303901,  12596.81303901,  12596.81303901,  12596.81303901,\n",
       "        12596.81303901,  12596.81303901,  12596.81303901,  12596.81303901,\n",
       "        12596.81303901,  12596.81303901,  12596.81303901,  12596.81303901,\n",
       "        12596.81303901,  12596.81303901,  12596.81303901,  12596.81303901,\n",
       "        12596.81303901,  12596.81303901,  12596.81303901,  12596.81303901,\n",
       "        12596.81303901,  12596.81303901,  12596.81303901,  12596.81303901,\n",
       "        12596.81303901,  12596.81303901,  12596.81303901,  12596.81303901,\n",
       "        12596.81303901,  12596.81303901,  12596.81303901,  12596.81303901,\n",
       "        12596.81303901,  12596.81303901,  12596.81303901,  12596.81303901,\n",
       "        12596.81303901,  12596.81303901,  12596.81303901,  12596.81303901,\n",
       "        12596.81303901,  12596.81303901,  12596.81303901,  12596.81303901,\n",
       "        12596.81303901,  12596.81303901,  12596.81303901,  12596.81303901,\n",
       "        12596.81303901,  12596.81303901,  12596.81303901,  12596.81303901,\n",
       "        12596.81303901,  12596.81303901,  12596.81303901,  12596.81303901,\n",
       "        12596.81303901,  12596.81303901,  12596.81303901,  12596.81303901,\n",
       "        12596.81303901,  12596.81303901,  12596.81303901,  12596.81303901,\n",
       "        12596.81303901,  12596.81303901,  12596.81303901,  12596.81303901,\n",
       "        12596.81303901,  12596.81303901,  12596.81303901,  12596.81303901,\n",
       "        12596.81303901,  12596.81303901,  12596.81303901,  12596.81303901,\n",
       "        12596.81303901,  12596.81303901,  12596.81303901,  12596.81303901,\n",
       "        12596.81303901,  12596.81303901,  12596.81303901,  12596.81303901,\n",
       "        12596.81303901,  12596.81303901,  12596.81303901,  12596.81303901,\n",
       "        12596.81303901,  12596.81303901,  12596.81303901,  12596.81303901,\n",
       "        12596.81303901,  12596.81303901,  12596.81303901,  12596.81303901,\n",
       "        12596.81303901,  12596.81303901,  12596.81303901,  12596.81303901,\n",
       "        12596.81303901,  12596.81303901,  12596.81303901,  12596.81303901,\n",
       "        12596.81303901,  12596.81303901,  12596.81303901,  12596.81303901,\n",
       "        12596.81303901,  12596.81303901,  12596.81303901,  12596.81303901,\n",
       "        12596.81303901,  12596.81303901,  12596.81303901,  12596.81303901,\n",
       "        12596.81303901,  12596.81303901,  12596.81303901,  12596.81303901,\n",
       "        12596.81303901,  12596.81303901,  12596.81303901,  12596.81303901,\n",
       "        12596.81303901,  12596.81303901,  12596.81303901,  12596.81303901,\n",
       "        12596.81303901,  12596.81303901,  12596.81303901,  12596.81303901,\n",
       "        12596.81303901,  12596.81303901,  12596.81303901,  12596.81303901,\n",
       "        12596.81303901,  12596.81303901,  12596.81303901,  12596.81303901,\n",
       "        12596.81303901,  12596.81303901,  12596.81303901,  12596.81303901,\n",
       "        12596.81303901,  12596.81303901,  12596.81303901,  12596.81303901,\n",
       "        12596.81303901,  12596.81303901,  12596.81303901,  12596.81303901,\n",
       "        12596.81303901,  12596.81303901,  12596.81303901,  12596.81303901,\n",
       "        12596.81303901,  12596.81303901,  12596.81303901,  12596.81303901,\n",
       "        12596.81303901,  12596.81303901,  12596.81303901,  12596.81303901,\n",
       "        12596.81303901,  12596.81303901,  12596.81303901,  12596.81303901,\n",
       "        12596.81303901,  12596.81303901,  12596.81303901,  12596.81303901,\n",
       "        12596.81303901,  12596.81303901,  12596.81303901,  12596.81303901,\n",
       "        12596.81303901,  12596.81303901,  12596.81303901,  12596.81303901,\n",
       "        12596.81303901,  12596.81303901,  12596.81303901,  12596.81303901,\n",
       "        12596.81303901,  12596.81303901,  12596.81303901,  12596.81303901,\n",
       "        12596.81303901,  12596.81303901,  12596.81303901,  12596.81303901,\n",
       "        12596.81303901,  12596.81303901,  12596.81303901,  12596.81303901,\n",
       "        12596.81303901,  12596.81303901,  12596.81303901,  12596.81303901,\n",
       "        12596.81303901,  12596.81303901,  12596.81303901,  12596.81303901,\n",
       "        12596.81303901,  12596.81303901,  12596.81303901,  12596.81303901,\n",
       "        12596.81303901,  12596.81303901,  12596.81303901,  12596.81303901,\n",
       "        12596.81303901,  12596.81303901,  12596.81303901,  12596.81303901,\n",
       "        12596.81303901,  12596.81303901,  12596.81303901,  12596.81303901,\n",
       "        12596.81303901,  12596.81303901,  12596.81303901,  12596.81303901,\n",
       "        12596.81303901,  12596.81303901,  12596.81303901,  12596.81303901,\n",
       "        12596.81303901,  12596.81303901,  12596.81303901,  12596.81303901,\n",
       "        12596.81303901,  12596.81303901,  12596.81303901,  12596.81303901,\n",
       "        12596.81303901,  12596.81303901,  12596.81303901])"
      ]
     },
     "execution_count": 25,
     "metadata": {},
     "output_type": "execute_result"
    }
   ],
   "source": [
    "bias"
   ]
  },
  {
   "cell_type": "markdown",
   "metadata": {},
   "source": [
    "[<a href=\"#Finance-using-NLTK-and-Random-Forest-by-eestra2\">Back to top</a>]"
   ]
  },
  {
   "cell_type": "markdown",
   "metadata": {},
   "source": [
    "# 7. Graphing"
   ]
  },
  {
   "cell_type": "code",
   "execution_count": 26,
   "metadata": {},
   "outputs": [],
   "source": [
    "# Next, we take a look at the big picture using matplotlib module to display a comparative graph to show\n",
    "# predicted price vs actual price\n",
    "\n",
    "import matplotlib.pyplot as plt\n",
    "%matplotlib inline                    "
   ]
  },
  {
   "cell_type": "code",
   "execution_count": 27,
   "metadata": {},
   "outputs": [],
   "source": [
    "# Here we make the x-axis of the graph which is the test-start-date to the test-end-date.\n",
    "# We also extract prediction values from the gigantic array we saw earlier and place it into a dataframe along with corresponding\n",
    "# dates. \n",
    "\n",
    "idx = pd.date_range(test_start_date, test_end_date)\n",
    "predictions_df = pd.DataFrame(data=prediction[0:], index = idx, columns=['prices'])"
   ]
  },
  {
   "cell_type": "code",
   "execution_count": 28,
   "metadata": {},
   "outputs": [
    {
     "data": {
      "text/html": [
       "<div>\n",
       "<style scoped>\n",
       "    .dataframe tbody tr th:only-of-type {\n",
       "        vertical-align: middle;\n",
       "    }\n",
       "\n",
       "    .dataframe tbody tr th {\n",
       "        vertical-align: top;\n",
       "    }\n",
       "\n",
       "    .dataframe thead th {\n",
       "        text-align: right;\n",
       "    }\n",
       "</style>\n",
       "<table border=\"1\" class=\"dataframe\">\n",
       "  <thead>\n",
       "    <tr style=\"text-align: right;\">\n",
       "      <th></th>\n",
       "      <th>prices</th>\n",
       "    </tr>\n",
       "  </thead>\n",
       "  <tbody>\n",
       "    <tr>\n",
       "      <th>2015-01-01</th>\n",
       "      <td>13830.700</td>\n",
       "    </tr>\n",
       "    <tr>\n",
       "      <th>2015-01-02</th>\n",
       "      <td>13156.275</td>\n",
       "    </tr>\n",
       "    <tr>\n",
       "      <th>2015-01-03</th>\n",
       "      <td>10860.900</td>\n",
       "    </tr>\n",
       "    <tr>\n",
       "      <th>2015-01-04</th>\n",
       "      <td>13526.000</td>\n",
       "    </tr>\n",
       "    <tr>\n",
       "      <th>2015-01-05</th>\n",
       "      <td>10523.700</td>\n",
       "    </tr>\n",
       "  </tbody>\n",
       "</table>\n",
       "</div>"
      ],
      "text/plain": [
       "               prices\n",
       "2015-01-01  13830.700\n",
       "2015-01-02  13156.275\n",
       "2015-01-03  10860.900\n",
       "2015-01-04  13526.000\n",
       "2015-01-05  10523.700"
      ]
     },
     "execution_count": 28,
     "metadata": {},
     "output_type": "execute_result"
    }
   ],
   "source": [
    "predictions_df.head()"
   ]
  },
  {
   "cell_type": "code",
   "execution_count": 29,
   "metadata": {},
   "outputs": [
    {
     "data": {
      "image/png": "[encoded data removed]",
      "text/plain": [
       "<matplotlib.figure.Figure at 0x10ef5b38>"
      ]
     },
     "metadata": {},
     "output_type": "display_data"
    }
   ],
   "source": [
    "# we plot the above dataframe \n",
    "predictions_plot = predictions_df.plot()\n",
    "\n",
    "# Then we integrate it with the real values that are assigned to variable y_test\n",
    "fig = y_test.plot(ax = predictions_plot).get_figure()\n",
    "fig.savefig(\"random forest non-smoothing.png\")"
   ]
  },
  {
   "cell_type": "code",
   "execution_count": 31,
   "metadata": {},
   "outputs": [
    {
     "data": {
      "image/png": "[encoded data removed]",
      "text/plain": [
       "<matplotlib.figure.Figure at 0x10f855f8>"
      ]
     },
     "metadata": {},
     "output_type": "display_data"
    }
   ],
   "source": [
    "# The above graph is not very well illustrated since we are missing labels.\n",
    "# So here we add titles and labels to better convey our findings. \n",
    "\n",
    "\n",
    "ax = predictions_df.rename(columns={\"prices\": \"predicted_price\"}).plot(title=' 2yr-Predicted prices w/8yrs preceding data')\n",
    "ax.set_xlabel(\"Dates\")\n",
    "ax.set_ylabel(\"Stock Prices\")\n",
    "fig = y_test.rename(columns={\"prices\": \"actual_price\"}).plot(ax = ax).get_figure()\n",
    "fig.savefig(\"random forest non-smoothing.png\")\n"
   ]
  },
  {
   "cell_type": "markdown",
   "metadata": {},
   "source": [
    "[<a href=\"#Finance-using-NLTK-and-Random-Forest-by-eestra2\">Back to top</a>]"
   ]
  },
  {
   "cell_type": "markdown",
   "metadata": {},
   "source": [
    "# 8. Conclusion & Final Thoughts"
   ]
  },
  {
   "cell_type": "markdown",
   "metadata": {},
   "source": [
    "Immediately we see that predicted prices are way off from the actual prices. In addition, we see sharp and deep changes in  predicted prices relative to the actual prices. In order to understand more closely what happened, we need to ask ourselves \"what is Random Forest?\". Random Forest is a collection of decision trees. Each decision tree comes to a conclusion (prediction) and then they all majority-vote on the final prediction (remember the VotingClassifier in the previous section...this does almost exactly like that). Think of each tree as a unique person going through an extensive chain of decisions, given alternatives and conditions, to reach a conclusion or final prediction. Then we average those results up and we get a Random Forest prediction! So think of it as a pool of people working as a team with each individual incorporating their knowledge and information to solve the problem. Does this sound like a normal distribution of outcomes? Indeed, it is very analogous to a normal distribution where some trees might over shoot by a lot but it will be ultimately countered by more trees shooting around the average or expected value. Also, bear in mind that the more diverse the trees are, the better the prediction as less diverse trees may sway the outcome with bias. Thus, the word \"random\" in \"Random Forest\" means that in order to exclude bias in the decision trees, they each get a random sub-set of the features that they will train with. Random training points will ensure the trees are using information that is evenly spread out. \n",
    "\n",
    "Now that we have a rough idea how Random Forests work, we can start making inferences on why the large discrepancies. It could be that we need to fine-tune the model itself by adjusting its parameters (for example, number of trees in the model). Another reason could be that price movements are largely dictated by many factors, not just market sentiment. We might be missing other crucial features that the trees need in order to be able to map them to the price (target). Also, bear in mind that prices are a time-series problem. That means that prices are autocorrelated and so previous instances of prices heavily influence the next proceeding price. That being said, the strength of previous instances in time might not have any influence after some time. This means that if were predicting tomorrow's price of something, going back even as far as 1 year in  historical prices might be irrelevant because prices could also be seasonal or cyclical in nature. Thus, we might have to adjust the time interval to something smaller. Quality of the source of data is also extremely important. If you give algorithms garbage data, the results are not going to correctly represent the thing at study. So make sure you know where the data is coming from and assess its validity with respect to the nature of the problem. Finally I want too mention that it could also be the wrong model for the job. Financial studies have shown that in the  short-term, prices are highly random and impossible to predict with accuracy. Perhaps another model that uses probabilities to predict random outcomes is much better suited for this problem. I leave any fine tuning up to you now! Have fun!\n",
    "\n",
    "Fine Tune Summary\n",
    "1. Model modifications\n",
    "2. Features modification\n",
    "3. Volume of data modification\n",
    "4. Quality of data (note: quality > quantity)"
   ]
  },
  {
   "cell_type": "markdown",
   "metadata": {},
   "source": [
    "[<a href=\"#Finance-using-NLTK-and-Random-Forest-by-eestra2\">Back to top</a>]"
   ]
  },
  {
   "cell_type": "markdown",
   "metadata": {},
   "source": [
    "**There is more to this but decided to keep it simple in order to get beginners started and learn how to think and question every aspect; as opposed to just memorizing answers and procedures which does not contribute to any understanding.**"
   ]
  },
  {
   "cell_type": "markdown",
   "metadata": {},
   "source": [
    "# Check out my other notebook on simple Neural Network\n",
    "\n",
    "#### Finance using simple Neural Networks by [eestra2](https://github.com/eestra2)"
   ]
  }
 ],
 "metadata": {
  "kernelspec": {
   "display_name": "Python 3",
   "language": "python",
   "name": "python3"
  },
  "language_info": {
   "codemirror_mode": {
    "name": "ipython",
    "version": 3
   },
   "file_extension": ".py",
   "mimetype": "text/x-python",
   "name": "python",
   "nbconvert_exporter": "python",
   "pygments_lexer": "ipython3",
   "version": "3.6.6"
  }
 },
 "nbformat": 4,
 "nbformat_minor": 2
}
